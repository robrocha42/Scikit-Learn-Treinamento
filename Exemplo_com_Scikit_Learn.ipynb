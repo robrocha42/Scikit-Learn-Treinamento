{
  "nbformat": 4,
  "nbformat_minor": 0,
  "metadata": {
    "colab": {
      "provenance": [],
      "authorship_tag": "ABX9TyN9VrLaymL+pgBH1vEElSFh",
      "include_colab_link": true
    },
    "kernelspec": {
      "name": "python3",
      "display_name": "Python 3"
    },
    "language_info": {
      "name": "python"
    }
  },
  "cells": [
    {
      "cell_type": "markdown",
      "metadata": {
        "id": "view-in-github",
        "colab_type": "text"
      },
      "source": [
        "<a href=\"https://colab.research.google.com/github/robrocha42/Scikit-Learn-Treinamento/blob/main/Exemplo_com_Scikit_Learn.ipynb\" target=\"_parent\"><img src=\"https://colab.research.google.com/assets/colab-badge.svg\" alt=\"Open In Colab\"/></a>"
      ]
    },
    {
      "cell_type": "code",
      "execution_count": null,
      "metadata": {
        "colab": {
          "base_uri": "https://localhost:8080/"
        },
        "id": "vrpYjbNkLKKU",
        "outputId": "d8144ee2-dc87-4cea-b5f5-8fadf5a36f35"
      },
      "outputs": [
        {
          "output_type": "execute_result",
          "data": {
            "text/plain": [
              "array([[0.4694261, 0.5305739]])"
            ]
          },
          "metadata": {},
          "execution_count": 2
        }
      ],
      "source": [
        "#Titanic - Kaggle\n",
        "import pandas as pd\n",
        "from sklearn.linear_model import LogisticRegression\n",
        "import numpy as np\n",
        "\n",
        "df = pd.read_csv('/content/train.csv') #Caminho do arquivo\n",
        "\n",
        "\"\"\"\n",
        "\n",
        "Para treinar um modelo, precisamos separar as variáveis \n",
        "preditoras da variável resposta. Neste dataset, a variável \n",
        "resposta é a variável Survived que indica se o passageiro \n",
        "sobreviveu ou não. Todas as demais são variáveis preditoras\n",
        "\n",
        "\"\"\"\n",
        "\n",
        "\"\"\"\n",
        "Por convenção, chama-se a matriz com as variáveis preditoras \n",
        "de X e o vetor com a variável resposta de y.\n",
        "\"\"\"\n",
        "\n",
        "#Separando as variáveis preditoras da variável resposta\n",
        "X = df['Fare'].copy()\n",
        "#formato adequado para serem consumidos pelo algoritmo\n",
        "X = X.values.reshape(-1,1)\n",
        "Y = df['Survived'].copy()\n",
        "\n",
        "\n",
        "\"\"\"\n",
        "Treinando um modelo de regressão logística \n",
        "utilizando o Scikit-Learn\n",
        "\"\"\"\n",
        "#instanciando\n",
        "clf = LogisticRegression()\n",
        "#Fit recebe as variáveis preditoras e a variável resposta\n",
        "clf.fit(X,Y)\n",
        "#retorna a acurácia do modelo - 66,5%\n",
        "clf.score(X,Y)\n",
        "\n",
        "#Utilizando o modelo treinado para fazer novas previsões\n",
        "#O modelo prevê a classe 0 (não sobrevivência) para um passageiro cuja tarifa foi de 50 \n",
        "#e prevê a classe 1 (sobrevivência) para um passageiro cuja tarifa foi de 70.\n",
        "clf.predict(np.array([[50]]))\n",
        "\n",
        "clf.predict(np.array([[70]]))\n",
        "\n",
        "#prever a probabilidade de sobrevivência de um passageiro com base na tarifa paga\n",
        "#a probabilidade de o passageiro sobreviver é de 45,5%\n",
        "clf.predict_proba(np.array([[50]]))\n",
        "\n",
        "#prever a probabilidade de sobrevivência de um passageiro com base na tarifa paga\n",
        "#a probabilidade de o passageiro sobreviver é de 53%\n",
        "clf.predict_proba(np.array([[70]]))"
      ]
    }
  ]
}